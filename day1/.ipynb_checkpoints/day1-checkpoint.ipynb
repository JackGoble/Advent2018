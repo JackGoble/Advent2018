{
 "cells": [
  {
   "cell_type": "code",
   "execution_count": 23,
   "id": "bc229994",
   "metadata": {},
   "outputs": [],
   "source": [
    "from collections import defaultdict\n",
    "from pprint import pprint as pprint"
   ]
  },
  {
   "cell_type": "code",
   "execution_count": 3,
   "id": "a2d0af98",
   "metadata": {},
   "outputs": [],
   "source": [
    "filename = \"input.txt\"\n",
    "with open(filename, \"r\") as f:\n",
    "    lines = []\n",
    "    for line in f:\n",
    "        lines.append(line.strip())"
   ]
  },
  {
   "cell_type": "code",
   "execution_count": 4,
   "id": "e4780008",
   "metadata": {},
   "outputs": [
    {
     "name": "stdout",
     "output_type": "stream",
     "text": [
      "459\n"
     ]
    }
   ],
   "source": [
    "res = 0\n",
    "for line in lines:\n",
    "    if line[0] == '+':\n",
    "        res += int(line[1:])\n",
    "    else:\n",
    "        res -= int(line[1:])\n",
    "print(res)"
   ]
  },
  {
   "cell_type": "code",
   "execution_count": 28,
   "id": "70359762",
   "metadata": {},
   "outputs": [
    {
     "name": "stdout",
     "output_type": "stream",
     "text": [
      "65474\n"
     ]
    }
   ],
   "source": [
    "res = 0\n",
    "visited = defaultdict(int)\n",
    "visited[0] = 1\n",
    "i = 0\n",
    "while True:\n",
    "    line = lines[i%len(lines)]\n",
    "    if line[0] == '+':\n",
    "        res += int(line[1:])\n",
    "    else:\n",
    "        res -= int(line[1:])\n",
    "    visited[res] += 1\n",
    "    if visited[res] > 1:\n",
    "        print(res)\n",
    "        break;\n",
    "    i += 1"
   ]
  },
  {
   "cell_type": "code",
   "execution_count": null,
   "id": "4b449d79",
   "metadata": {},
   "outputs": [],
   "source": []
  }
 ],
 "metadata": {
  "kernelspec": {
   "display_name": "Python 3 (ipykernel)",
   "language": "python",
   "name": "python3"
  },
  "language_info": {
   "codemirror_mode": {
    "name": "ipython",
    "version": 3
   },
   "file_extension": ".py",
   "mimetype": "text/x-python",
   "name": "python",
   "nbconvert_exporter": "python",
   "pygments_lexer": "ipython3",
   "version": "3.10.10"
  }
 },
 "nbformat": 4,
 "nbformat_minor": 5
}
