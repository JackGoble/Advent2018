{
 "cells": [
  {
   "cell_type": "code",
   "execution_count": 1,
   "id": "4bd57b8e",
   "metadata": {},
   "outputs": [],
   "source": [
    "import numpy as np\n",
    "from collections import defaultdict\n",
    "from pprint import pprint as pprint"
   ]
  },
  {
   "cell_type": "code",
   "execution_count": 12,
   "id": "d969ec28",
   "metadata": {},
   "outputs": [
    {
     "name": "stdout",
     "output_type": "stream",
     "text": [
      "[2, 1] was in new front\n"
     ]
    }
   ],
   "source": [
    "a = np.array([[-1, -1, -1], [-1, -1, -1]])\n",
    "new_front = [[0,0], [2,1]]\n",
    "loc = [2,1]\n",
    "if any([loc==x for x in new_front]):\n",
    "    print(loc, 'was in new front')"
   ]
  },
  {
   "cell_type": "code",
   "execution_count": null,
   "id": "529e2a2c",
   "metadata": {},
   "outputs": [],
   "source": [
    "if any(loc+d)"
   ]
  },
  {
   "cell_type": "code",
   "execution_count": null,
   "id": "886d63a4",
   "metadata": {},
   "outputs": [],
   "source": [
    "#this was an attempt at an efficient day 6 but i chouldnt get the egde cases right so i abandoned it\n",
    "w, h = maxx-minx + 1, maxy-miny +1\n",
    "coords_shifted = coords - np.array([minx, miny])\n",
    "\n",
    "def inbounds(c, minx=0, maxx=w, miny=0, maxy=h):\n",
    "    return c[0] >= minx and c[0] < maxx and c[1] >= miny and c[1] < maxy\n",
    "\n",
    "grid = np.full([w, h], -1)\n",
    "for i, coord in enumerate(coords_shifted):\n",
    "    grid[coord[0], coord[1]] = i\n",
    "\n",
    "dirs = [[-1, 0], [1, 0], [0, -1], [0, 1]]\n",
    "front = coords_shifted.tolist()\n",
    "while not len(front) == 0:\n",
    "    new_front = []\n",
    "    for coord in front:\n",
    "        for d in dirs:\n",
    "            loc = [coord[0] + d[0], coord[1] + d[1]]\n",
    "            if not inbounds(loc):\n",
    "                continue\n",
    "            for d2 in dirs:\n",
    "                if np.all(np.array(d2) != -np.array(d)):\n",
    "                    if [loc[0]+d2[0], loc[1]+d2[1]] in front:\n",
    "                        grid[loc[0], loc[1]] = -2\n",
    "                        continue\n",
    "            if grid[loc[0], loc[1]] == -1:\n",
    "                grid[loc[0], loc[1]] = grid[coord[0], coord[1]]\n",
    "                new_front.append(loc)\n",
    "    front = new_front\n",
    "\n",
    "print(grid[20:40,20:40])\n",
    "                "
   ]
  },
  {
   "cell_type": "code",
   "execution_count": null,
   "id": "092643ec",
   "metadata": {},
   "outputs": [],
   "source": [
    "counts = np.zeros(len(coords_shifted))\n",
    "for row in grid:\n",
    "    for val in row:\n",
    "        counts[val] += 1\n",
    "for cell in grid[0,:]:\n",
    "    counts[cell] = 0\n",
    "for cell in grid[-1,:]:\n",
    "    counts[cell] = 0\n",
    "for cell in grid[:,0]:\n",
    "    counts[cell] = 0\n",
    "for cell in grid[:,-1]:\n",
    "    counts[cell] = 0\n",
    "\n",
    "print(counts)\n",
    "print(max(counts))"
   ]
  },
  {
   "cell_type": "code",
   "execution_count": null,
   "id": "8dbd4e19",
   "metadata": {},
   "outputs": [],
   "source": []
  },
  {
   "cell_type": "code",
   "execution_count": null,
   "id": "31fe4c54",
   "metadata": {},
   "outputs": [],
   "source": []
  },
  {
   "cell_type": "code",
   "execution_count": null,
   "id": "821067fe",
   "metadata": {},
   "outputs": [],
   "source": []
  }
 ],
 "metadata": {
  "kernelspec": {
   "display_name": "Python 3 (ipykernel)",
   "language": "python",
   "name": "python3"
  },
  "language_info": {
   "codemirror_mode": {
    "name": "ipython",
    "version": 3
   },
   "file_extension": ".py",
   "mimetype": "text/x-python",
   "name": "python",
   "nbconvert_exporter": "python",
   "pygments_lexer": "ipython3",
   "version": "3.10.10"
  }
 },
 "nbformat": 4,
 "nbformat_minor": 5
}
