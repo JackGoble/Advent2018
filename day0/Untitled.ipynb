{
 "cells": [
  {
   "cell_type": "code",
   "execution_count": 1,
   "id": "391bf9b2",
   "metadata": {},
   "outputs": [],
   "source": [
    "import numpy as np\n",
    "from collections import defaultdict\n",
    "from pprint import pprint as pprint"
   ]
  },
  {
   "cell_type": "code",
   "execution_count": 12,
   "id": "0d387475",
   "metadata": {},
   "outputs": [
    {
     "name": "stdout",
     "output_type": "stream",
     "text": [
      "[2, 1] was in new front\n"
     ]
    }
   ],
   "source": [
    "a = np.array([[-1, -1, -1], [-1, -1, -1]])\n",
    "new_front = [[0,0], [2,1]]\n",
    "loc = [2,1]\n",
    "if any([loc==x for x in new_front]):\n",
    "    print(loc, 'was in new front')"
   ]
  },
  {
   "cell_type": "code",
   "execution_count": null,
   "id": "876bf028",
   "metadata": {},
   "outputs": [],
   "source": [
    "if any(loc+d)"
   ]
  }
 ],
 "metadata": {
  "kernelspec": {
   "display_name": "Python 3 (ipykernel)",
   "language": "python",
   "name": "python3"
  },
  "language_info": {
   "codemirror_mode": {
    "name": "ipython",
    "version": 3
   },
   "file_extension": ".py",
   "mimetype": "text/x-python",
   "name": "python",
   "nbconvert_exporter": "python",
   "pygments_lexer": "ipython3",
   "version": "3.10.10"
  }
 },
 "nbformat": 4,
 "nbformat_minor": 5
}
