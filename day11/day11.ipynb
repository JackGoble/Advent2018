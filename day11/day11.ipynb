{
 "cells": [
  {
   "cell_type": "markdown",
   "id": "4491c9c1",
   "metadata": {},
   "source": [
    "<div style=\"background-color: rgb(15, 15, 35); border: 1px solid rgb(255, 255, 255); color: rgb(204, 204, 204); font-family: monospace; margin-left: -5px; margin-right: -20px; padding: 1rem;\"><h2 style=\"border-color: rgb(255, 255, 255); color: rgb(255, 255, 255);\">--- Day 11: Chronal Charge ---</h2><p style=\"border-color: rgb(204, 204, 204); color: rgb(204, 204, 204);\">You watch the Elves and their sleigh fade into the distance as they head toward the North Pole.</p>\n",
    "<p style=\"border-color: rgb(204, 204, 204); color: rgb(204, 204, 204);\">Actually, you're the one fading. The <span title=\"wheeeeeeeeeeeeeeeeee\" style=\"border-color: rgb(204, 204, 204); color: rgb(204, 204, 204);\">falling sensation</span> returns.</p>\n",
    "<p style=\"border-color: rgb(204, 204, 204); color: rgb(204, 204, 204);\">The low fuel warning light is illuminated on your wrist-mounted device. Tapping it once causes it to project a hologram of the situation: a <em style=\"border-color: rgb(255, 255, 255); color: rgb(255, 255, 255); text-shadow: rgb(255, 255, 255) 0px 0px 5px;\">300x300</em> grid of fuel cells and their current power levels, some negative. You're not sure what negative power means in the context of time travel, but it can't be good.</p>\n",
    "<p style=\"border-color: rgb(204, 204, 204); color: rgb(204, 204, 204);\">Each fuel cell has a coordinate ranging <em style=\"border-color: rgb(255, 255, 255); color: rgb(255, 255, 255); text-shadow: rgb(255, 255, 255) 0px 0px 5px;\">from 1 to 300</em> in both the X (horizontal) and Y (vertical) direction.  In <code style=\"border: 1px solid rgb(51, 51, 64); color: rgb(204, 204, 204); background: rgb(16, 16, 26);\">X,Y</code> notation, the top-left cell is <code style=\"border: 1px solid rgb(51, 51, 64); color: rgb(204, 204, 204); background: rgb(16, 16, 26);\">1,1</code>, and the top-right cell is <code style=\"border: 1px solid rgb(51, 51, 64); color: rgb(204, 204, 204); background: rgb(16, 16, 26);\">300,1</code>.</p>\n",
    "<p style=\"border-color: rgb(204, 204, 204); color: rgb(204, 204, 204);\">The interface lets you select <em style=\"border-color: rgb(255, 255, 255); color: rgb(255, 255, 255); text-shadow: rgb(255, 255, 255) 0px 0px 5px;\">any 3x3 square</em> of fuel cells. To increase your chances of getting to your destination, you decide to choose the 3x3 square with the <em style=\"border-color: rgb(255, 255, 255); color: rgb(255, 255, 255); text-shadow: rgb(255, 255, 255) 0px 0px 5px;\">largest total power</em>.</p>\n",
    "<p style=\"border-color: rgb(204, 204, 204); color: rgb(204, 204, 204);\">The power level in a given fuel cell can be found through the following process:</p>\n",
    "<ul style=\"border-color: rgb(204, 204, 204); color: rgb(204, 204, 204);\">\n",
    "<li style=\"border-color: rgb(204, 204, 204); color: rgb(204, 204, 204);\">Find the fuel cell's <em style=\"border-color: rgb(255, 255, 255); color: rgb(255, 255, 255); text-shadow: rgb(255, 255, 255) 0px 0px 5px;\">rack ID</em>, which is its <em style=\"border-color: rgb(255, 255, 255); color: rgb(255, 255, 255); text-shadow: rgb(255, 255, 255) 0px 0px 5px;\">X coordinate plus 10</em>.</li>\n",
    "<li style=\"border-color: rgb(204, 204, 204); color: rgb(204, 204, 204);\">Begin with a power level of the <em style=\"border-color: rgb(255, 255, 255); color: rgb(255, 255, 255); text-shadow: rgb(255, 255, 255) 0px 0px 5px;\">rack ID</em> times the <em style=\"border-color: rgb(255, 255, 255); color: rgb(255, 255, 255); text-shadow: rgb(255, 255, 255) 0px 0px 5px;\">Y coordinate</em>.</li>\n",
    "<li style=\"border-color: rgb(204, 204, 204); color: rgb(204, 204, 204);\">Increase the power level by the value of the <em style=\"border-color: rgb(255, 255, 255); color: rgb(255, 255, 255); text-shadow: rgb(255, 255, 255) 0px 0px 5px;\">grid serial number</em> (your puzzle input).</li>\n",
    "<li style=\"border-color: rgb(204, 204, 204); color: rgb(204, 204, 204);\">Set the power level to itself multiplied by the <em style=\"border-color: rgb(255, 255, 255); color: rgb(255, 255, 255); text-shadow: rgb(255, 255, 255) 0px 0px 5px;\">rack ID</em>.</li>\n",
    "<li style=\"border-color: rgb(204, 204, 204); color: rgb(204, 204, 204);\">Keep only the <em style=\"border-color: rgb(255, 255, 255); color: rgb(255, 255, 255); text-shadow: rgb(255, 255, 255) 0px 0px 5px;\">hundreds digit</em> of the power level (so <code style=\"border: 1px solid rgb(51, 51, 64); color: rgb(204, 204, 204); background: rgb(16, 16, 26);\">12<em style=\"border-color: rgb(255, 255, 255); color: rgb(255, 255, 255); text-shadow: rgb(255, 255, 255) 0px 0px 5px;\">3</em>45</code> becomes <code style=\"border: 1px solid rgb(51, 51, 64); color: rgb(204, 204, 204); background: rgb(16, 16, 26);\">3</code>; numbers with no hundreds digit become <code style=\"border: 1px solid rgb(51, 51, 64); color: rgb(204, 204, 204); background: rgb(16, 16, 26);\">0</code>).</li>\n",
    "<li style=\"border-color: rgb(204, 204, 204); color: rgb(204, 204, 204);\"><em style=\"border-color: rgb(255, 255, 255); color: rgb(255, 255, 255); text-shadow: rgb(255, 255, 255) 0px 0px 5px;\">Subtract 5</em> from the power level.</li>\n",
    "</ul>\n",
    "<p style=\"border-color: rgb(204, 204, 204); color: rgb(204, 204, 204);\">For example, to find the power level of the fuel cell at <code style=\"border: 1px solid rgb(51, 51, 64); color: rgb(204, 204, 204); background: rgb(16, 16, 26);\">3,5</code> in a grid with serial number <code style=\"border: 1px solid rgb(51, 51, 64); color: rgb(204, 204, 204); background: rgb(16, 16, 26);\">8</code>:</p>\n",
    "<ul style=\"border-color: rgb(204, 204, 204); color: rgb(204, 204, 204);\">\n",
    "<li style=\"border-color: rgb(204, 204, 204); color: rgb(204, 204, 204);\">The rack ID is <code style=\"border: 1px solid rgb(51, 51, 64); color: rgb(204, 204, 204); background: rgb(16, 16, 26);\">3 + 10 = <em style=\"border-color: rgb(255, 255, 255); color: rgb(255, 255, 255); text-shadow: rgb(255, 255, 255) 0px 0px 5px;\">13</em></code>.</li>\n",
    "<li style=\"border-color: rgb(204, 204, 204); color: rgb(204, 204, 204);\">The power level starts at <code style=\"border: 1px solid rgb(51, 51, 64); color: rgb(204, 204, 204); background: rgb(16, 16, 26);\">13 * 5 = <em style=\"border-color: rgb(255, 255, 255); color: rgb(255, 255, 255); text-shadow: rgb(255, 255, 255) 0px 0px 5px;\">65</em></code>.</li>\n",
    "<li style=\"border-color: rgb(204, 204, 204); color: rgb(204, 204, 204);\">Adding the serial number produces <code style=\"border: 1px solid rgb(51, 51, 64); color: rgb(204, 204, 204); background: rgb(16, 16, 26);\">65 + 8 = <em style=\"border-color: rgb(255, 255, 255); color: rgb(255, 255, 255); text-shadow: rgb(255, 255, 255) 0px 0px 5px;\">73</em></code>.</li>\n",
    "<li style=\"border-color: rgb(204, 204, 204); color: rgb(204, 204, 204);\">Multiplying by the rack ID produces <code style=\"border: 1px solid rgb(51, 51, 64); color: rgb(204, 204, 204); background: rgb(16, 16, 26);\">73 * 13 = <em style=\"border-color: rgb(255, 255, 255); color: rgb(255, 255, 255); text-shadow: rgb(255, 255, 255) 0px 0px 5px;\">949</em></code>.</li>\n",
    "<li style=\"border-color: rgb(204, 204, 204); color: rgb(204, 204, 204);\">The hundreds digit of <code style=\"border: 1px solid rgb(51, 51, 64); color: rgb(204, 204, 204); background: rgb(16, 16, 26);\"><em style=\"border-color: rgb(255, 255, 255); color: rgb(255, 255, 255); text-shadow: rgb(255, 255, 255) 0px 0px 5px;\">9</em>49</code> is <code style=\"border: 1px solid rgb(51, 51, 64); color: rgb(204, 204, 204); background: rgb(16, 16, 26);\"><em style=\"border-color: rgb(255, 255, 255); color: rgb(255, 255, 255); text-shadow: rgb(255, 255, 255) 0px 0px 5px;\">9</em></code>.</li>\n",
    "<li style=\"border-color: rgb(204, 204, 204); color: rgb(204, 204, 204);\">Subtracting 5 produces <code style=\"border: 1px solid rgb(51, 51, 64); color: rgb(204, 204, 204); background: rgb(16, 16, 26);\">9 - 5 = <em style=\"border-color: rgb(255, 255, 255); color: rgb(255, 255, 255); text-shadow: rgb(255, 255, 255) 0px 0px 5px;\">4</em></code>.</li>\n",
    "</ul>\n",
    "<p style=\"border-color: rgb(204, 204, 204); color: rgb(204, 204, 204);\">So, the power level of this fuel cell is <code style=\"border: 1px solid rgb(51, 51, 64); color: rgb(204, 204, 204); background: rgb(16, 16, 26);\"><em style=\"border-color: rgb(255, 255, 255); color: rgb(255, 255, 255); text-shadow: rgb(255, 255, 255) 0px 0px 5px;\">4</em></code>.</p>\n",
    "<p style=\"border-color: rgb(204, 204, 204); color: rgb(204, 204, 204);\">Here are some more example power levels:</p>\n",
    "<ul style=\"border-color: rgb(204, 204, 204); color: rgb(204, 204, 204);\">\n",
    "<li style=\"border-color: rgb(204, 204, 204); color: rgb(204, 204, 204);\">Fuel cell at &nbsp;<code style=\"border: 1px solid rgb(51, 51, 64); color: rgb(204, 204, 204); background: rgb(16, 16, 26);\">122,79</code>, grid serial number <code style=\"border: 1px solid rgb(51, 51, 64); color: rgb(204, 204, 204); background: rgb(16, 16, 26);\">57</code>: power level <code style=\"border: 1px solid rgb(51, 51, 64); color: rgb(204, 204, 204); background: rgb(16, 16, 26);\">-5</code>.</li>\n",
    "<li style=\"border-color: rgb(204, 204, 204); color: rgb(204, 204, 204);\">Fuel cell at <code style=\"border: 1px solid rgb(51, 51, 64); color: rgb(204, 204, 204); background: rgb(16, 16, 26);\">217,196</code>, grid serial number <code style=\"border: 1px solid rgb(51, 51, 64); color: rgb(204, 204, 204); background: rgb(16, 16, 26);\">39</code>: power level &nbsp;<code style=\"border: 1px solid rgb(51, 51, 64); color: rgb(204, 204, 204); background: rgb(16, 16, 26);\">0</code>.</li>\n",
    "<li style=\"border-color: rgb(204, 204, 204); color: rgb(204, 204, 204);\">Fuel cell at <code style=\"border: 1px solid rgb(51, 51, 64); color: rgb(204, 204, 204); background: rgb(16, 16, 26);\">101,153</code>, grid serial number <code style=\"border: 1px solid rgb(51, 51, 64); color: rgb(204, 204, 204); background: rgb(16, 16, 26);\">71</code>: power level &nbsp;<code style=\"border: 1px solid rgb(51, 51, 64); color: rgb(204, 204, 204); background: rgb(16, 16, 26);\">4</code>.</li>\n",
    "</ul>\n",
    "<p style=\"border-color: rgb(204, 204, 204); color: rgb(204, 204, 204);\">Your goal is to find the 3x3 square which has the largest total power. The square must be entirely within the 300x300 grid. Identify this square using the <code style=\"border: 1px solid rgb(51, 51, 64); color: rgb(204, 204, 204); background: rgb(16, 16, 26);\">X,Y</code> coordinate of its <em style=\"border-color: rgb(255, 255, 255); color: rgb(255, 255, 255); text-shadow: rgb(255, 255, 255) 0px 0px 5px;\">top-left fuel cell</em>. For example:</p>\n",
    "<p style=\"border-color: rgb(204, 204, 204); color: rgb(204, 204, 204);\">For grid serial number <code style=\"border: 1px solid rgb(51, 51, 64); color: rgb(204, 204, 204); background: rgb(16, 16, 26);\">18</code>, the largest total 3x3 square has a top-left corner of <code style=\"border: 1px solid rgb(51, 51, 64); color: rgb(204, 204, 204); background: rgb(16, 16, 26);\"><em style=\"border-color: rgb(255, 255, 255); color: rgb(255, 255, 255); text-shadow: rgb(255, 255, 255) 0px 0px 5px;\">33,45</em></code> (with a total power of <code style=\"border: 1px solid rgb(51, 51, 64); color: rgb(204, 204, 204); background: rgb(16, 16, 26);\">29</code>); these fuel cells appear in the middle of this 5x5 region:</p>\n",
    "<pre style=\"border: 1px solid rgb(51, 51, 64); color: rgb(204, 204, 204); background-color: rgb(16, 16, 26); display: inline-block;\"><code style=\"border-color: rgb(204, 204, 204); color: rgb(204, 204, 204); background-color: rgb(16, 16, 26);\">-2  -4   4   4   4\n",
    "-4  <em style=\"border-color: rgb(255, 255, 255); color: rgb(255, 255, 255); text-shadow: rgb(255, 255, 255) 0px 0px 5px;\"> 4   4   4  </em>-5\n",
    " 4  <em style=\"border-color: rgb(255, 255, 255); color: rgb(255, 255, 255); text-shadow: rgb(255, 255, 255) 0px 0px 5px;\"> 3   3   4  </em>-4\n",
    " 1  <em style=\"border-color: rgb(255, 255, 255); color: rgb(255, 255, 255); text-shadow: rgb(255, 255, 255) 0px 0px 5px;\"> 1   2   4  </em>-3\n",
    "-1   0   2  -5  -2\n",
    "</code></pre>\n",
    "<p style=\"border-color: rgb(204, 204, 204); color: rgb(204, 204, 204);\">For grid serial number <code style=\"border: 1px solid rgb(51, 51, 64); color: rgb(204, 204, 204); background: rgb(16, 16, 26);\">42</code>, the largest 3x3 square's top-left is <code style=\"border: 1px solid rgb(51, 51, 64); color: rgb(204, 204, 204); background: rgb(16, 16, 26);\"><em style=\"border-color: rgb(255, 255, 255); color: rgb(255, 255, 255); text-shadow: rgb(255, 255, 255) 0px 0px 5px;\">21,61</em></code> (with a total power of <code style=\"border: 1px solid rgb(51, 51, 64); color: rgb(204, 204, 204); background: rgb(16, 16, 26);\">30</code>); they are in the middle of this region:</p>\n",
    "<pre style=\"border: 1px solid rgb(51, 51, 64); color: rgb(204, 204, 204); background-color: rgb(16, 16, 26); display: inline-block;\"><code style=\"border-color: rgb(204, 204, 204); color: rgb(204, 204, 204); background-color: rgb(16, 16, 26);\">-3   4   2   2   2\n",
    "-4  <em style=\"border-color: rgb(255, 255, 255); color: rgb(255, 255, 255); text-shadow: rgb(255, 255, 255) 0px 0px 5px;\"> 4   3   3  </em> 4\n",
    "-5  <em style=\"border-color: rgb(255, 255, 255); color: rgb(255, 255, 255); text-shadow: rgb(255, 255, 255) 0px 0px 5px;\"> 3   3   4  </em>-4\n",
    " 4  <em style=\"border-color: rgb(255, 255, 255); color: rgb(255, 255, 255); text-shadow: rgb(255, 255, 255) 0px 0px 5px;\"> 3   3   4  </em>-3\n",
    " 3   3   3  -5  -1\n",
    "</code></pre>\n",
    "<p style=\"border-color: rgb(204, 204, 204); color: rgb(204, 204, 204);\"><em style=\"border-color: rgb(255, 255, 255); color: rgb(255, 255, 255); text-shadow: rgb(255, 255, 255) 0px 0px 5px;\">What is the <code style=\"border: 1px solid rgb(51, 51, 64); color: rgb(255, 255, 255); text-shadow: rgb(255, 255, 255) 0px 0px 5px; background: rgb(16, 16, 26);\">X,Y</code> coordinate of the top-left fuel cell of the 3x3 square with the largest total power?</em></p>\n",
    "</div>"
   ]
  },
  {
   "cell_type": "code",
   "execution_count": 57,
   "id": "e47dbf59",
   "metadata": {},
   "outputs": [],
   "source": [
    "import numpy as np\n",
    "from pprint import pprint as pprint"
   ]
  },
  {
   "cell_type": "code",
   "execution_count": 70,
   "id": "bba301cb",
   "metadata": {},
   "outputs": [
    {
     "name": "stdout",
     "output_type": "stream",
     "text": [
      "30 21 76\n"
     ]
    }
   ],
   "source": [
    "serial = 3031\n",
    "grid = np.array([[(((((x+10)*y+serial)*(x+10))//100)%10)-5 for y in range(1,301)] for x in range(1, 301)])\n",
    "\n",
    "maximum = 0\n",
    "res_x, res_y = 0, 0\n",
    "for y in range(298):\n",
    "    for x in range(298):\n",
    "        square = np.sum(grid[x:x+3,y:y+3])\n",
    "        if square > maximum:\n",
    "            maximum = square\n",
    "            res_x, res_y = x+1, y+1\n",
    "print(maximum, res_x, res_y)"
   ]
  },
  {
   "cell_type": "markdown",
   "id": "b6efc209",
   "metadata": {},
   "source": [
    "<div style=\"background-color: rgb(15, 15, 35); border: 1px solid rgb(255, 255, 255); color: rgb(204, 204, 204); font-family: monospace; margin-left: -5px; margin-right: -20px; padding: 1rem;\"><h2 id=\"part2\" style=\"border-color: rgb(255, 255, 255); color: rgb(255, 255, 255);\">--- Part Two ---</h2><p style=\"border-color: rgb(204, 204, 204); color: rgb(204, 204, 204);\">You discover a dial on the side of the device; it seems to let you select a square of <em style=\"border-color: rgb(255, 255, 255); color: rgb(255, 255, 255); text-shadow: rgb(255, 255, 255) 0px 0px 5px;\">any size</em>, not just 3x3. Sizes from 1x1 to 300x300 are supported.</p>\n",
    "<p style=\"border-color: rgb(204, 204, 204); color: rgb(204, 204, 204);\">Realizing this, you now must find the <em style=\"border-color: rgb(255, 255, 255); color: rgb(255, 255, 255); text-shadow: rgb(255, 255, 255) 0px 0px 5px;\">square of any size with the largest total power</em>. Identify this square by including its size as a third parameter after the top-left coordinate: a 9x9 square with a top-left corner of <code style=\"border: 1px solid rgb(51, 51, 64); color: rgb(204, 204, 204); background: rgb(16, 16, 26);\">3,5</code> is identified as <code style=\"border: 1px solid rgb(51, 51, 64); color: rgb(204, 204, 204); background: rgb(16, 16, 26);\">3,5,9</code>.</p>\n",
    "<p style=\"border-color: rgb(204, 204, 204); color: rgb(204, 204, 204);\">For example:</p>\n",
    "<ul style=\"border-color: rgb(204, 204, 204); color: rgb(204, 204, 204);\">\n",
    "<li style=\"border-color: rgb(204, 204, 204); color: rgb(204, 204, 204);\">For grid serial number <code style=\"border: 1px solid rgb(51, 51, 64); color: rgb(204, 204, 204); background: rgb(16, 16, 26);\">18</code>, the largest total square (with a total power of <code style=\"border: 1px solid rgb(51, 51, 64); color: rgb(204, 204, 204); background: rgb(16, 16, 26);\">113</code>) is 16x16 and has a top-left corner of <code style=\"border: 1px solid rgb(51, 51, 64); color: rgb(204, 204, 204); background: rgb(16, 16, 26);\">90,269</code>, so its identifier is <code style=\"border: 1px solid rgb(51, 51, 64); color: rgb(204, 204, 204); background: rgb(16, 16, 26);\"><em style=\"border-color: rgb(255, 255, 255); color: rgb(255, 255, 255); text-shadow: rgb(255, 255, 255) 0px 0px 5px;\">90,269,16</em></code>.</li>\n",
    "<li style=\"border-color: rgb(204, 204, 204); color: rgb(204, 204, 204);\">For grid serial number <code style=\"border: 1px solid rgb(51, 51, 64); color: rgb(204, 204, 204); background: rgb(16, 16, 26);\">42</code>, the largest total square (with a total power of <code style=\"border: 1px solid rgb(51, 51, 64); color: rgb(204, 204, 204); background: rgb(16, 16, 26);\">119</code>) is 12x12 and has a top-left corner of <code style=\"border: 1px solid rgb(51, 51, 64); color: rgb(204, 204, 204); background: rgb(16, 16, 26);\">232,251</code>, so its identifier is <code style=\"border: 1px solid rgb(51, 51, 64); color: rgb(204, 204, 204); background: rgb(16, 16, 26);\"><em style=\"border-color: rgb(255, 255, 255); color: rgb(255, 255, 255); text-shadow: rgb(255, 255, 255) 0px 0px 5px;\">232,251,12</em></code>.</li>\n",
    "</ul>\n",
    "<p style=\"border-color: rgb(204, 204, 204); color: rgb(204, 204, 204);\"><em style=\"border-color: rgb(255, 255, 255); color: rgb(255, 255, 255); text-shadow: rgb(255, 255, 255) 0px 0px 5px;\">What is the <code style=\"border: 1px solid rgb(51, 51, 64); color: rgb(255, 255, 255); text-shadow: rgb(255, 255, 255) 0px 0px 5px; background: rgb(16, 16, 26);\">X,Y,size</code> identifier of the square with the largest total power?</em></p>\n",
    "</div>"
   ]
  },
  {
   "cell_type": "code",
   "execution_count": 74,
   "id": "ff516677",
   "metadata": {},
   "outputs": [
    {
     "name": "stdout",
     "output_type": "stream",
     "text": [
      "160 234 108 16\n"
     ]
    }
   ],
   "source": [
    "serial = 3031\n",
    "grid = np.array([[(((((x+10)*y+serial)*(x+10))//100)%10)-5 for y in range(1,301)] for x in range(1, 301)])\n",
    "\n",
    "maximum = 0\n",
    "res_x, res_y, res_s = 0, 0, 0\n",
    "for size in range(1,301):\n",
    "    for y in range(301-size):\n",
    "        for x in range(301-size):\n",
    "            square = np.sum(grid[x:x+size,y:y+size])\n",
    "            if square > maximum:\n",
    "                maximum = square\n",
    "                res_x, res_y, res_s = x+1, y+1, size\n",
    "print(maximum, res_x, res_y, res_s)"
   ]
  },
  {
   "cell_type": "code",
   "execution_count": 84,
   "id": "96ff2cd7",
   "metadata": {},
   "outputs": [],
   "source": [
    "def f1():\n",
    "    serial = 3031\n",
    "    grid = np.array([[(((((x+10)*y+serial)*(x+10))//100)%10)-5 for y in range(1,301)] for x in range(1, 301)])\n",
    "\n",
    "    maximum = 0\n",
    "    res_x, res_y, res_s = 0, 0, 0\n",
    "    for y in range(300):\n",
    "        for x in range(300):\n",
    "            for size in range(1,301-max(x,y)):\n",
    "                square = np.sum(grid[x:x+size,y:y+size])\n",
    "                if square > maximum:\n",
    "                    maximum = square\n",
    "                    res_x, res_y, res_s = x+1, y+1, size\n",
    "    print(maximum, res_x, res_y, res_s)"
   ]
  },
  {
   "cell_type": "code",
   "execution_count": 85,
   "id": "39b5d841",
   "metadata": {},
   "outputs": [],
   "source": [
    "def f2():\n",
    "    serial = 3031\n",
    "    grid = np.array([[(((((x+10)*y+serial)*(x+10))//100)%10)-5 for y in range(1,301)] for x in range(1, 301)])\n",
    "\n",
    "    maximum = 0\n",
    "    res_x, res_y, res_s = 0, 0, 0\n",
    "    for y in range(300):\n",
    "        for x in range(300):\n",
    "            square = 0\n",
    "            for size in range(1,301-max(x,y)):\n",
    "                square += np.sum(grid[x:x+size,y+size-1])\n",
    "                square += np.sum(grid[x+size-1,y:y+size])\n",
    "                square -= grid[x+size-1,y+size-1]\n",
    "                if square > maximum:\n",
    "                    maximum = square\n",
    "                    res_x, res_y, res_s = x+1, y+1, size\n",
    "    print(maximum, res_x, res_y, res_s)"
   ]
  },
  {
   "cell_type": "code",
   "execution_count": 86,
   "id": "63eaa982",
   "metadata": {},
   "outputs": [],
   "source": [
    "from timeit import timeit"
   ]
  },
  {
   "cell_type": "code",
   "execution_count": 88,
   "id": "979f0617",
   "metadata": {},
   "outputs": [
    {
     "name": "stdout",
     "output_type": "stream",
     "text": [
      "160 234 108 16\n"
     ]
    },
    {
     "data": {
      "text/plain": [
       "84.44140750006773"
      ]
     },
     "execution_count": 88,
     "metadata": {},
     "output_type": "execute_result"
    }
   ],
   "source": [
    "timeit(f1,number=1)"
   ]
  },
  {
   "cell_type": "code",
   "execution_count": 89,
   "id": "49579a3f",
   "metadata": {},
   "outputs": [
    {
     "name": "stdout",
     "output_type": "stream",
     "text": [
      "160 234 108 16\n"
     ]
    },
    {
     "data": {
      "text/plain": [
       "96.37053770013154"
      ]
     },
     "execution_count": 89,
     "metadata": {},
     "output_type": "execute_result"
    }
   ],
   "source": [
    "timeit(f2,number=1)"
   ]
  },
  {
   "cell_type": "code",
   "execution_count": null,
   "id": "abe759d3",
   "metadata": {},
   "outputs": [],
   "source": []
  }
 ],
 "metadata": {
  "kernelspec": {
   "display_name": "Python 3 (ipykernel)",
   "language": "python",
   "name": "python3"
  },
  "language_info": {
   "codemirror_mode": {
    "name": "ipython",
    "version": 3
   },
   "file_extension": ".py",
   "mimetype": "text/x-python",
   "name": "python",
   "nbconvert_exporter": "python",
   "pygments_lexer": "ipython3",
   "version": "3.10.10"
  }
 },
 "nbformat": 4,
 "nbformat_minor": 5
}
