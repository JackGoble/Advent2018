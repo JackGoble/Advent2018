{
 "cells": [
  {
   "cell_type": "markdown",
   "id": "50208e6c",
   "metadata": {},
   "source": [
    "<div style=\"background-color: rgb(15, 15, 35); border: 1px solid rgb(255, 255, 255); color: rgb(204, 204, 204); font-family: monospace; margin-left: -5px; margin-right: -20px; padding: 1rem;\"><h2 style=\"border-color: rgb(255, 255, 255); color: rgb(255, 255, 255);\">--- Day 7: The Sum of Its Parts ---</h2><p style=\"border-color: rgb(204, 204, 204); color: rgb(204, 204, 204);\">You find yourself standing on a snow-covered coastline; apparently, you landed a little off course.  The region is too hilly to see the North Pole from here, but you do spot some Elves that seem to be trying to unpack something that washed ashore. It's quite cold out, so you decide to risk creating a paradox by asking them for directions.</p>\n",
    "<p style=\"border-color: rgb(204, 204, 204); color: rgb(204, 204, 204);\">\"Oh, are you the search party?\" Somehow, you can understand whatever Elves from the year 1018 speak; you assume it's <a href=\"/2015/day/6\" style=\"border-color: rgb(0, 153, 0); color: rgb(0, 153, 0);\">Ancient Nordic Elvish</a>. Could the device on your wrist also be a translator? \"Those clothes don't look very warm; take this.\" They hand you a heavy coat.</p>\n",
    "<p style=\"border-color: rgb(204, 204, 204); color: rgb(204, 204, 204);\">\"We do need to find our way back to the North Pole, but we have higher priorities at the moment. You see, believe it or not, this box contains something that will solve all of Santa's transportation problems - at least, that's what it looks like from the pictures in the instructions.\"  It doesn't seem like they can read whatever language it's in, but you can: \"Sleigh kit. <span title=\"Just some oak and some pine and a handful of Norsemen.\" style=\"border-color: rgb(204, 204, 204); color: rgb(204, 204, 204);\">Some assembly required.</span>\"</p>\n",
    "<p style=\"border-color: rgb(204, 204, 204); color: rgb(204, 204, 204);\">\"'Sleigh'? What a wonderful name! You must help us assemble this 'sleigh' at once!\" They start excitedly pulling more parts out of the box.</p>\n",
    "<p style=\"border-color: rgb(204, 204, 204); color: rgb(204, 204, 204);\">The instructions specify a series of <em style=\"border-color: rgb(255, 255, 255); color: rgb(255, 255, 255); text-shadow: rgb(255, 255, 255) 0px 0px 5px;\">steps</em> and requirements about which steps must be finished before others can begin (your puzzle input). Each step is designated by a single letter. For example, suppose you have the following instructions:</p>\n",
    "<pre style=\"border: 1px solid rgb(51, 51, 64); color: rgb(204, 204, 204); background-color: rgb(16, 16, 26); display: inline-block;\"><code style=\"border-color: rgb(204, 204, 204); color: rgb(204, 204, 204); background-color: rgb(16, 16, 26);\">Step C must be finished before step A can begin.\n",
    "Step C must be finished before step F can begin.\n",
    "Step A must be finished before step B can begin.\n",
    "Step A must be finished before step D can begin.\n",
    "Step B must be finished before step E can begin.\n",
    "Step D must be finished before step E can begin.\n",
    "Step F must be finished before step E can begin.\n",
    "</code></pre>\n",
    "<p style=\"border-color: rgb(204, 204, 204); color: rgb(204, 204, 204);\">Visually, these requirements look like this:</p>\n",
    "<pre style=\"border: 1px solid rgb(51, 51, 64); color: rgb(204, 204, 204); background-color: rgb(16, 16, 26); display: inline-block;\"><code style=\"border-color: rgb(204, 204, 204); color: rgb(204, 204, 204); background-color: rgb(16, 16, 26);\">  --&gt;A---&gt;B--\n",
    " /    \\      \\\n",
    "C      --&gt;D-----&gt;E\n",
    " \\           /\n",
    "  ----&gt;F-----\n",
    "</code></pre>\n",
    "<p style=\"border-color: rgb(204, 204, 204); color: rgb(204, 204, 204);\">Your first goal is to determine the order in which the steps should be completed. If more than one step is ready, choose the step which is first alphabetically. In this example, the steps would be completed as follows:</p>\n",
    "<ul style=\"border-color: rgb(204, 204, 204); color: rgb(204, 204, 204);\">\n",
    "<li style=\"border-color: rgb(204, 204, 204); color: rgb(204, 204, 204);\">Only <em style=\"border-color: rgb(255, 255, 255); color: rgb(255, 255, 255); text-shadow: rgb(255, 255, 255) 0px 0px 5px;\"><code style=\"border: 1px solid rgb(51, 51, 64); color: rgb(255, 255, 255); text-shadow: rgb(255, 255, 255) 0px 0px 5px; background: rgb(16, 16, 26);\">C</code></em> is available, and so it is done first.</li>\n",
    "<li style=\"border-color: rgb(204, 204, 204); color: rgb(204, 204, 204);\">Next, both <code style=\"border: 1px solid rgb(51, 51, 64); color: rgb(204, 204, 204); background: rgb(16, 16, 26);\">A</code> and <code style=\"border: 1px solid rgb(51, 51, 64); color: rgb(204, 204, 204); background: rgb(16, 16, 26);\">F</code> are available. <em style=\"border-color: rgb(255, 255, 255); color: rgb(255, 255, 255); text-shadow: rgb(255, 255, 255) 0px 0px 5px;\"><code style=\"border: 1px solid rgb(51, 51, 64); color: rgb(255, 255, 255); text-shadow: rgb(255, 255, 255) 0px 0px 5px; background: rgb(16, 16, 26);\">A</code></em> is first alphabetically, so it is done next.</li>\n",
    "<li style=\"border-color: rgb(204, 204, 204); color: rgb(204, 204, 204);\">Then, even though <code style=\"border: 1px solid rgb(51, 51, 64); color: rgb(204, 204, 204); background: rgb(16, 16, 26);\">F</code> was available earlier, steps <code style=\"border: 1px solid rgb(51, 51, 64); color: rgb(204, 204, 204); background: rgb(16, 16, 26);\">B</code> and <code style=\"border: 1px solid rgb(51, 51, 64); color: rgb(204, 204, 204); background: rgb(16, 16, 26);\">D</code> are now also available, and <em style=\"border-color: rgb(255, 255, 255); color: rgb(255, 255, 255); text-shadow: rgb(255, 255, 255) 0px 0px 5px;\"><code style=\"border: 1px solid rgb(51, 51, 64); color: rgb(255, 255, 255); text-shadow: rgb(255, 255, 255) 0px 0px 5px; background: rgb(16, 16, 26);\">B</code></em> is the first alphabetically of the three.</li>\n",
    "<li style=\"border-color: rgb(204, 204, 204); color: rgb(204, 204, 204);\">After that, only <code style=\"border: 1px solid rgb(51, 51, 64); color: rgb(204, 204, 204); background: rgb(16, 16, 26);\">D</code> and <code style=\"border: 1px solid rgb(51, 51, 64); color: rgb(204, 204, 204); background: rgb(16, 16, 26);\">F</code> are available. <code style=\"border: 1px solid rgb(51, 51, 64); color: rgb(204, 204, 204); background: rgb(16, 16, 26);\">E</code> is not available because only some of its prerequisites are complete. Therefore, <em style=\"border-color: rgb(255, 255, 255); color: rgb(255, 255, 255); text-shadow: rgb(255, 255, 255) 0px 0px 5px;\"><code style=\"border: 1px solid rgb(51, 51, 64); color: rgb(255, 255, 255); text-shadow: rgb(255, 255, 255) 0px 0px 5px; background: rgb(16, 16, 26);\">D</code></em> is completed next.</li>\n",
    "<li style=\"border-color: rgb(204, 204, 204); color: rgb(204, 204, 204);\"><em style=\"border-color: rgb(255, 255, 255); color: rgb(255, 255, 255); text-shadow: rgb(255, 255, 255) 0px 0px 5px;\"><code style=\"border: 1px solid rgb(51, 51, 64); color: rgb(255, 255, 255); text-shadow: rgb(255, 255, 255) 0px 0px 5px; background: rgb(16, 16, 26);\">F</code></em> is the only choice, so it is done next.</li>\n",
    "<li style=\"border-color: rgb(204, 204, 204); color: rgb(204, 204, 204);\">Finally, <em style=\"border-color: rgb(255, 255, 255); color: rgb(255, 255, 255); text-shadow: rgb(255, 255, 255) 0px 0px 5px;\"><code style=\"border: 1px solid rgb(51, 51, 64); color: rgb(255, 255, 255); text-shadow: rgb(255, 255, 255) 0px 0px 5px; background: rgb(16, 16, 26);\">E</code></em> is completed.</li>\n",
    "</ul>\n",
    "<p style=\"border-color: rgb(204, 204, 204); color: rgb(204, 204, 204);\">So, in this example, the correct order is <em style=\"border-color: rgb(255, 255, 255); color: rgb(255, 255, 255); text-shadow: rgb(255, 255, 255) 0px 0px 5px;\"><code style=\"border: 1px solid rgb(51, 51, 64); color: rgb(255, 255, 255); text-shadow: rgb(255, 255, 255) 0px 0px 5px; background: rgb(16, 16, 26);\">CABDFE</code></em>.</p>\n",
    "<p style=\"border-color: rgb(204, 204, 204); color: rgb(204, 204, 204);\"><em style=\"border-color: rgb(255, 255, 255); color: rgb(255, 255, 255); text-shadow: rgb(255, 255, 255) 0px 0px 5px;\">In what order should the steps in your instructions be completed?</em></p>\n",
    "</div>"
   ]
  },
  {
   "cell_type": "code",
   "execution_count": 4,
   "id": "eda7c383",
   "metadata": {},
   "outputs": [],
   "source": [
    "from collections import defaultdict\n",
    "from pprint import pprint as pprint"
   ]
  },
  {
   "cell_type": "code",
   "execution_count": 1,
   "id": "f2f3bf7e",
   "metadata": {},
   "outputs": [
    {
     "name": "stdout",
     "output_type": "stream",
     "text": [
      "[['G', 'N'], ['N', 'B'], ['P', 'Q'], ['F', 'U']]\n"
     ]
    }
   ],
   "source": [
    "constraints = []\n",
    "with open('input.txt', 'r') as f:\n",
    "    for line in f:\n",
    "        split_line = line.split(' ')\n",
    "        constraints.append([split_line[1], split_line[7]])\n",
    "        \n",
    "print(constraints[:4])"
   ]
  },
  {
   "cell_type": "code",
   "execution_count": 22,
   "id": "0b1aaac6",
   "metadata": {},
   "outputs": [
    {
     "name": "stdout",
     "output_type": "stream",
     "text": [
      "CFGHAEMNBPRDISVWQUZJYTKLOX\n"
     ]
    }
   ],
   "source": [
    "dependencies = defaultdict(set)\n",
    "available = set()\n",
    "for constraint in constraints:\n",
    "    dependencies[constraint[1]].add(constraint[0])\n",
    "    available.add(constraint[1])\n",
    "    available.add(constraint[0])\n",
    "\n",
    "res = ''\n",
    "while len(available) > 0:\n",
    "    candidates = []\n",
    "    for item in available:\n",
    "        if item not in dependencies:\n",
    "            candidates.append(item)\n",
    "    selection = min(candidates)\n",
    "    \n",
    "    to_remove = []\n",
    "    for key in dependencies:\n",
    "        dependencies[key].discard(selection)\n",
    "        if len(dependencies[key]) == 0:\n",
    "            to_remove.append(key)\n",
    "    \n",
    "    for key in to_remove:\n",
    "        dependencies.pop(key)\n",
    "    \n",
    "    available.remove(selection)\n",
    "    res += selection\n",
    "\n",
    "print(res)"
   ]
  },
  {
   "cell_type": "markdown",
   "id": "31abbb95",
   "metadata": {},
   "source": [
    "<div style=\"background-color: rgb(15, 15, 35); border: 1px solid rgb(255, 255, 255); color: rgb(204, 204, 204); font-family: monospace; margin-left: -5px; margin-right: -20px; padding: 1rem;\"><h2 id=\"part2\" style=\"border-color: rgb(255, 255, 255); color: rgb(255, 255, 255);\">--- Part Two ---</h2><p style=\"border-color: rgb(204, 204, 204); color: rgb(204, 204, 204);\">As you're about to begin construction, four of the Elves offer to help.  \"The sun will set soon; it'll go faster if we work together.\"  Now, you need to account for multiple people working on steps simultaneously. If multiple steps are available, workers should still begin them in alphabetical order.</p>\n",
    "<p style=\"border-color: rgb(204, 204, 204); color: rgb(204, 204, 204);\">Each step takes 60 seconds plus an amount corresponding to its letter: A=1, B=2, C=3, and so on. So, step A takes <code style=\"border: 1px solid rgb(51, 51, 64); color: rgb(204, 204, 204); background: rgb(16, 16, 26);\">60+1=61</code> seconds, while step Z takes <code style=\"border: 1px solid rgb(51, 51, 64); color: rgb(204, 204, 204); background: rgb(16, 16, 26);\">60+26=86</code> seconds. No time is required between steps.</p>\n",
    "<p style=\"border-color: rgb(204, 204, 204); color: rgb(204, 204, 204);\">To simplify things for the example, however, suppose you only have help from one Elf (a total of two workers) and that each step takes 60 fewer seconds (so that step A takes 1 second and step Z takes 26 seconds). Then, using the same instructions as above, this is how each second would be spent:</p>\n",
    "<pre style=\"border: 1px solid rgb(51, 51, 64); color: rgb(204, 204, 204); background-color: rgb(16, 16, 26); display: inline-block;\"><code style=\"border-color: rgb(204, 204, 204); color: rgb(204, 204, 204); background-color: rgb(16, 16, 26);\">Second   Worker 1   Worker 2   Done\n",
    "   0        C          .        \n",
    "   1        C          .        \n",
    "   2        C          .        \n",
    "   3        A          F       C\n",
    "   4        B          F       CA\n",
    "   5        B          F       CA\n",
    "   6        D          F       CAB\n",
    "   7        D          F       CAB\n",
    "   8        D          F       CAB\n",
    "   9        D          .       CABF\n",
    "  10        E          .       CABFD\n",
    "  11        E          .       CABFD\n",
    "  12        E          .       CABFD\n",
    "  13        E          .       CABFD\n",
    "  14        E          .       CABFD\n",
    "  15        .          .       CABFDE\n",
    "</code></pre>\n",
    "<p style=\"border-color: rgb(204, 204, 204); color: rgb(204, 204, 204);\">Each row represents one second of time.  The Second column identifies how many seconds have passed as of the beginning of that second.  Each worker column shows the step that worker is currently doing (or <code style=\"border: 1px solid rgb(51, 51, 64); color: rgb(204, 204, 204); background: rgb(16, 16, 26);\">.</code> if they are idle).  The Done column shows completed steps.</p>\n",
    "<p style=\"border-color: rgb(204, 204, 204); color: rgb(204, 204, 204);\">Note that the order of the steps has changed; this is because steps now take time to finish and multiple workers can begin multiple steps simultaneously.</p>\n",
    "<p style=\"border-color: rgb(204, 204, 204); color: rgb(204, 204, 204);\">In this example, it would take <em style=\"border-color: rgb(255, 255, 255); color: rgb(255, 255, 255); text-shadow: rgb(255, 255, 255) 0px 0px 5px;\">15</em> seconds for two workers to complete these steps.</p>\n",
    "<p style=\"border-color: rgb(204, 204, 204); color: rgb(204, 204, 204);\">With <em style=\"border-color: rgb(255, 255, 255); color: rgb(255, 255, 255); text-shadow: rgb(255, 255, 255) 0px 0px 5px;\">5</em> workers and the <em style=\"border-color: rgb(255, 255, 255); color: rgb(255, 255, 255); text-shadow: rgb(255, 255, 255) 0px 0px 5px;\">60+ second</em> step durations described above, <em style=\"border-color: rgb(255, 255, 255); color: rgb(255, 255, 255); text-shadow: rgb(255, 255, 255) 0px 0px 5px;\">how long will it take to complete all of the steps?</em></p>\n",
    "</div>"
   ]
  },
  {
   "cell_type": "code",
   "execution_count": 51,
   "id": "5a885126",
   "metadata": {},
   "outputs": [
    {
     "name": "stdout",
     "output_type": "stream",
     "text": [
      "CFGMHNPVAEBWRQDIUSZJYTKLOX 828\n"
     ]
    }
   ],
   "source": [
    "dependencies = defaultdict(set)\n",
    "available = set()\n",
    "for constraint in constraints:\n",
    "    dependencies[constraint[1]].add(constraint[0])\n",
    "    available.add(constraint[1])\n",
    "    available.add(constraint[0])\n",
    "\n",
    "res = ''\n",
    "time = 0\n",
    "processing = []\n",
    "time_required = []\n",
    "while len(available) > 0:\n",
    "\n",
    "    processing_candidates = []\n",
    "    for item in available:\n",
    "        if item not in dependencies:\n",
    "            processing_candidates.append(item)\n",
    "            \n",
    "    for item in sorted(processing_candidates):\n",
    "        if len(processing) < 5:\n",
    "            processing.append(item)\n",
    "            time_required.append(ord(item)-ord('A')+61)\n",
    "    \n",
    "    for item in processing:\n",
    "        available.discard(item)\n",
    "    \n",
    "    sort_keys = sorted(range(len(processing)), key=lambda x: time_required[x])\n",
    "    processing = [processing[k] for k in sort_keys]\n",
    "    time_required = [time_required[k] for k in sort_keys]\n",
    "    \n",
    "    advance_time = time_required[0]\n",
    "    for i in range(len(time_required)):\n",
    "        time_required[i] -= advance_time\n",
    "    time += advance_time\n",
    "    \n",
    "    to_remove = []\n",
    "    for key in dependencies:\n",
    "        dependencies[key].discard(processing[0])\n",
    "        if len(dependencies[key]) == 0:\n",
    "            to_remove.append(key)\n",
    "    \n",
    "    for key in to_remove:\n",
    "        dependencies.pop(key)\n",
    "    \n",
    "    res += processing[0]\n",
    "    \n",
    "    processing.pop(0)\n",
    "    time_required.pop(0)\n",
    "\n",
    "print(res, time)"
   ]
  },
  {
   "cell_type": "code",
   "execution_count": null,
   "id": "0836d934",
   "metadata": {},
   "outputs": [],
   "source": []
  }
 ],
 "metadata": {
  "kernelspec": {
   "display_name": "Python 3 (ipykernel)",
   "language": "python",
   "name": "python3"
  },
  "language_info": {
   "codemirror_mode": {
    "name": "ipython",
    "version": 3
   },
   "file_extension": ".py",
   "mimetype": "text/x-python",
   "name": "python",
   "nbconvert_exporter": "python",
   "pygments_lexer": "ipython3",
   "version": "3.10.10"
  }
 },
 "nbformat": 4,
 "nbformat_minor": 5
}
