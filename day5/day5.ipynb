{
 "cells": [
  {
   "cell_type": "markdown",
   "id": "37a0046d",
   "metadata": {},
   "source": [
    "<div style=\"background-color: rgb(15, 15, 35); border: 1px solid rgb(255, 255, 255); color: rgb(204, 204, 204); font-family: monospace; margin-left: -5px; margin-right: -20px; padding: 1rem;\"><h2 style=\"border-color: rgb(255, 255, 255); color: rgb(255, 255, 255);\">--- Day 5: Alchemical Reduction ---</h2><p style=\"border-color: rgb(204, 204, 204); color: rgb(204, 204, 204);\">You've managed to sneak in to the prototype suit manufacturing lab.  The Elves are making decent progress, but are still struggling with the suit's size reduction capabilities.</p>\n",
    "<p style=\"border-color: rgb(204, 204, 204); color: rgb(204, 204, 204);\">While the very latest in 1518 alchemical technology might have solved their problem eventually, you can do better.  You scan the chemical composition of the suit's material and discover that it is formed by extremely long <a href=\"https://en.wikipedia.org/wiki/Polymer\" style=\"border-color: rgb(0, 153, 0); color: rgb(0, 153, 0);\">polymers</a> (one of which is <span title=\"I've always wanted a polymer!\" style=\"border-color: rgb(204, 204, 204); color: rgb(204, 204, 204);\">available</span> as your puzzle input).</p>\n",
    "<p style=\"border-color: rgb(204, 204, 204); color: rgb(204, 204, 204);\">The polymer is formed by smaller <em style=\"border-color: rgb(255, 255, 255); color: rgb(255, 255, 255); text-shadow: rgb(255, 255, 255) 0px 0px 5px;\">units</em> which, when triggered, react with each other such that two adjacent units of the same type and opposite polarity are destroyed. Units' types are represented by letters; units' polarity is represented by capitalization.  For instance, <code style=\"border: 1px solid rgb(51, 51, 64); color: rgb(204, 204, 204); background: rgb(16, 16, 26);\">r</code> and <code style=\"border: 1px solid rgb(51, 51, 64); color: rgb(204, 204, 204); background: rgb(16, 16, 26);\">R</code> are units with the same type but opposite polarity, whereas <code style=\"border: 1px solid rgb(51, 51, 64); color: rgb(204, 204, 204); background: rgb(16, 16, 26);\">r</code> and <code style=\"border: 1px solid rgb(51, 51, 64); color: rgb(204, 204, 204); background: rgb(16, 16, 26);\">s</code> are entirely different types and do not react.</p>\n",
    "<p style=\"border-color: rgb(204, 204, 204); color: rgb(204, 204, 204);\">For example:</p>\n",
    "<ul style=\"border-color: rgb(204, 204, 204); color: rgb(204, 204, 204);\">\n",
    "<li style=\"border-color: rgb(204, 204, 204); color: rgb(204, 204, 204);\">In <code style=\"border: 1px solid rgb(51, 51, 64); color: rgb(204, 204, 204); background: rgb(16, 16, 26);\">aA</code>, <code style=\"border: 1px solid rgb(51, 51, 64); color: rgb(204, 204, 204); background: rgb(16, 16, 26);\">a</code> and <code style=\"border: 1px solid rgb(51, 51, 64); color: rgb(204, 204, 204); background: rgb(16, 16, 26);\">A</code> react, leaving nothing behind.</li>\n",
    "<li style=\"border-color: rgb(204, 204, 204); color: rgb(204, 204, 204);\">In <code style=\"border: 1px solid rgb(51, 51, 64); color: rgb(204, 204, 204); background: rgb(16, 16, 26);\">abBA</code>, <code style=\"border: 1px solid rgb(51, 51, 64); color: rgb(204, 204, 204); background: rgb(16, 16, 26);\">bB</code> destroys itself, leaving <code style=\"border: 1px solid rgb(51, 51, 64); color: rgb(204, 204, 204); background: rgb(16, 16, 26);\">aA</code>.  As above, this then destroys itself, leaving nothing.</li>\n",
    "<li style=\"border-color: rgb(204, 204, 204); color: rgb(204, 204, 204);\">In <code style=\"border: 1px solid rgb(51, 51, 64); color: rgb(204, 204, 204); background: rgb(16, 16, 26);\">abAB</code>, no two adjacent units are of the same type, and so nothing happens.</li>\n",
    "<li style=\"border-color: rgb(204, 204, 204); color: rgb(204, 204, 204);\">In <code style=\"border: 1px solid rgb(51, 51, 64); color: rgb(204, 204, 204); background: rgb(16, 16, 26);\">aabAAB</code>, even though <code style=\"border: 1px solid rgb(51, 51, 64); color: rgb(204, 204, 204); background: rgb(16, 16, 26);\">aa</code> and <code style=\"border: 1px solid rgb(51, 51, 64); color: rgb(204, 204, 204); background: rgb(16, 16, 26);\">AA</code> are of the same type, their polarities match, and so nothing happens.</li>\n",
    "</ul>\n",
    "<p style=\"border-color: rgb(204, 204, 204); color: rgb(204, 204, 204);\">Now, consider a larger example, <code style=\"border: 1px solid rgb(51, 51, 64); color: rgb(204, 204, 204); background: rgb(16, 16, 26);\">dabAcCaCBAcCcaDA</code>:</p>\n",
    "<pre style=\"border: 1px solid rgb(51, 51, 64); color: rgb(204, 204, 204); background-color: rgb(16, 16, 26); display: inline-block;\"><code style=\"border-color: rgb(204, 204, 204); color: rgb(204, 204, 204); background-color: rgb(16, 16, 26);\">dabA<em style=\"border-color: rgb(255, 255, 255); color: rgb(255, 255, 255); text-shadow: rgb(255, 255, 255) 0px 0px 5px;\">cC</em>aCBAcCcaDA  The first 'cC' is removed.\n",
    "dab<em style=\"border-color: rgb(255, 255, 255); color: rgb(255, 255, 255); text-shadow: rgb(255, 255, 255) 0px 0px 5px;\">Aa</em>CBAcCcaDA    This creates 'Aa', which is removed.\n",
    "dabCBA<em style=\"border-color: rgb(255, 255, 255); color: rgb(255, 255, 255); text-shadow: rgb(255, 255, 255) 0px 0px 5px;\">cCc</em>aDA      Either 'cC' or 'Cc' are removed (the result is the same).\n",
    "dabCBAcaDA        No further actions can be taken.\n",
    "</code></pre>\n",
    "<p style=\"border-color: rgb(204, 204, 204); color: rgb(204, 204, 204);\">After all possible reactions, the resulting polymer contains <em style=\"border-color: rgb(255, 255, 255); color: rgb(255, 255, 255); text-shadow: rgb(255, 255, 255) 0px 0px 5px;\">10 units</em>.</p>\n",
    "<p style=\"border-color: rgb(204, 204, 204); color: rgb(204, 204, 204);\"><em style=\"border-color: rgb(255, 255, 255); color: rgb(255, 255, 255); text-shadow: rgb(255, 255, 255) 0px 0px 5px;\">How many units remain after fully reacting the polymer you scanned?</em> <span class=\"quiet\" style=\"border-color: rgb(204, 204, 204); color: rgb(204, 204, 204);\">(Note: in this puzzle and others, the input is large; if you copy/paste your input, make sure you get the whole thing.)</span></p>\n",
    "</div>"
   ]
  },
  {
   "cell_type": "code",
   "execution_count": 5,
   "id": "acd2a253",
   "metadata": {},
   "outputs": [
    {
     "name": "stdout",
     "output_type": "stream",
     "text": [
      "50000\n"
     ]
    }
   ],
   "source": [
    "polymer = ''\n",
    "with open('input.txt', 'r') as f:\n",
    "    polymer = f.readline().strip()\n",
    "print(len(polymer))"
   ]
  },
  {
   "cell_type": "code",
   "execution_count": 4,
   "id": "a53d8751",
   "metadata": {},
   "outputs": [
    {
     "name": "stdout",
     "output_type": "stream",
     "text": [
      "10978\n"
     ]
    }
   ],
   "source": [
    "res = ''\n",
    "for unit in polymer:\n",
    "    if res == '':\n",
    "        res = unit\n",
    "        continue\n",
    "    if abs(ord(res[-1]) - ord(unit)) == 32:\n",
    "        res = res[:-1]\n",
    "    else:\n",
    "        res = res + unit\n",
    "\n",
    "print(len(res))"
   ]
  },
  {
   "cell_type": "markdown",
   "id": "25b5eedb",
   "metadata": {},
   "source": [
    "<div style=\"background-color: rgb(15, 15, 35); border: 1px solid rgb(255, 255, 255); color: rgb(204, 204, 204); font-family: monospace; margin-left: -5px; margin-right: -20px; padding: 1rem;\"><h2 id=\"part2\" style=\"border-color: rgb(255, 255, 255); color: rgb(255, 255, 255);\">--- Part Two ---</h2><p style=\"border-color: rgb(204, 204, 204); color: rgb(204, 204, 204);\">Time to improve the polymer.</p>\n",
    "<p style=\"border-color: rgb(204, 204, 204); color: rgb(204, 204, 204);\">One of the unit types is causing problems; it's preventing the polymer from collapsing as much as it should.  Your goal is to figure out which unit type is causing the most problems, remove all instances of it (regardless of polarity), fully react the remaining polymer, and measure its length.</p>\n",
    "<p style=\"border-color: rgb(204, 204, 204); color: rgb(204, 204, 204);\">For example, again using the polymer <code style=\"border: 1px solid rgb(51, 51, 64); color: rgb(204, 204, 204); background: rgb(16, 16, 26);\">dabAcCaCBAcCcaDA</code> from above:</p>\n",
    "<ul style=\"border-color: rgb(204, 204, 204); color: rgb(204, 204, 204);\">\n",
    "<li style=\"border-color: rgb(204, 204, 204); color: rgb(204, 204, 204);\">Removing all <code style=\"border: 1px solid rgb(51, 51, 64); color: rgb(204, 204, 204); background: rgb(16, 16, 26);\">A</code>/<code style=\"border: 1px solid rgb(51, 51, 64); color: rgb(204, 204, 204); background: rgb(16, 16, 26);\">a</code> units produces <code style=\"border: 1px solid rgb(51, 51, 64); color: rgb(204, 204, 204); background: rgb(16, 16, 26);\">dbcCCBcCcD</code>. Fully reacting this polymer produces <code style=\"border: 1px solid rgb(51, 51, 64); color: rgb(204, 204, 204); background: rgb(16, 16, 26);\">dbCBcD</code>, which has length 6.</li>\n",
    "<li style=\"border-color: rgb(204, 204, 204); color: rgb(204, 204, 204);\">Removing all <code style=\"border: 1px solid rgb(51, 51, 64); color: rgb(204, 204, 204); background: rgb(16, 16, 26);\">B</code>/<code style=\"border: 1px solid rgb(51, 51, 64); color: rgb(204, 204, 204); background: rgb(16, 16, 26);\">b</code> units produces <code style=\"border: 1px solid rgb(51, 51, 64); color: rgb(204, 204, 204); background: rgb(16, 16, 26);\">daAcCaCAcCcaDA</code>. Fully reacting this polymer produces <code style=\"border: 1px solid rgb(51, 51, 64); color: rgb(204, 204, 204); background: rgb(16, 16, 26);\">daCAcaDA</code>, which has length 8.</li>\n",
    "<li style=\"border-color: rgb(204, 204, 204); color: rgb(204, 204, 204);\">Removing all <code style=\"border: 1px solid rgb(51, 51, 64); color: rgb(204, 204, 204); background: rgb(16, 16, 26);\">C</code>/<code style=\"border: 1px solid rgb(51, 51, 64); color: rgb(204, 204, 204); background: rgb(16, 16, 26);\">c</code> units produces <code style=\"border: 1px solid rgb(51, 51, 64); color: rgb(204, 204, 204); background: rgb(16, 16, 26);\">dabAaBAaDA</code>. Fully reacting this polymer produces <code style=\"border: 1px solid rgb(51, 51, 64); color: rgb(204, 204, 204); background: rgb(16, 16, 26);\">daDA</code>, which has length 4.</li>\n",
    "<li style=\"border-color: rgb(204, 204, 204); color: rgb(204, 204, 204);\">Removing all <code style=\"border: 1px solid rgb(51, 51, 64); color: rgb(204, 204, 204); background: rgb(16, 16, 26);\">D</code>/<code style=\"border: 1px solid rgb(51, 51, 64); color: rgb(204, 204, 204); background: rgb(16, 16, 26);\">d</code> units produces <code style=\"border: 1px solid rgb(51, 51, 64); color: rgb(204, 204, 204); background: rgb(16, 16, 26);\">abAcCaCBAcCcaA</code>. Fully reacting this polymer produces <code style=\"border: 1px solid rgb(51, 51, 64); color: rgb(204, 204, 204); background: rgb(16, 16, 26);\">abCBAc</code>, which has length 6.</li>\n",
    "</ul>\n",
    "<p style=\"border-color: rgb(204, 204, 204); color: rgb(204, 204, 204);\">In this example, removing all <code style=\"border: 1px solid rgb(51, 51, 64); color: rgb(204, 204, 204); background: rgb(16, 16, 26);\">C</code>/<code style=\"border: 1px solid rgb(51, 51, 64); color: rgb(204, 204, 204); background: rgb(16, 16, 26);\">c</code> units was best, producing the answer <em style=\"border-color: rgb(255, 255, 255); color: rgb(255, 255, 255); text-shadow: rgb(255, 255, 255) 0px 0px 5px;\">4</em>.</p>\n",
    "<p style=\"border-color: rgb(204, 204, 204); color: rgb(204, 204, 204);\"><em style=\"border-color: rgb(255, 255, 255); color: rgb(255, 255, 255); text-shadow: rgb(255, 255, 255) 0px 0px 5px;\">What is the length of the shortest polymer you can produce</em> by removing all units of exactly one type and fully reacting the result?</p>\n",
    "</div>"
   ]
  },
  {
   "cell_type": "code",
   "execution_count": 7,
   "id": "7dff72e7",
   "metadata": {},
   "outputs": [
    {
     "name": "stdout",
     "output_type": "stream",
     "text": [
      "4840\n"
     ]
    }
   ],
   "source": [
    "def react(polymer, c):\n",
    "    res = ''\n",
    "    for unit in polymer:\n",
    "        if unit.lower() != c:\n",
    "            if res == '':\n",
    "                res = unit\n",
    "                continue\n",
    "            if abs(ord(res[-1]) - ord(unit)) == 32:\n",
    "                res = res[:-1]\n",
    "            else:\n",
    "                res = res + unit\n",
    "    return len(res)\n",
    "\n",
    "minimum = react(polymer, 'q')\n",
    "for c in 'wertyuiopasdfghjklzxcvbnm':\n",
    "    length = react(polymer, c)\n",
    "    if length < minimum:\n",
    "        minimum = length\n",
    "\n",
    "print(minimum)"
   ]
  },
  {
   "cell_type": "code",
   "execution_count": null,
   "id": "13148acc",
   "metadata": {},
   "outputs": [],
   "source": []
  }
 ],
 "metadata": {
  "kernelspec": {
   "display_name": "Python 3 (ipykernel)",
   "language": "python",
   "name": "python3"
  },
  "language_info": {
   "codemirror_mode": {
    "name": "ipython",
    "version": 3
   },
   "file_extension": ".py",
   "mimetype": "text/x-python",
   "name": "python",
   "nbconvert_exporter": "python",
   "pygments_lexer": "ipython3",
   "version": "3.10.10"
  }
 },
 "nbformat": 4,
 "nbformat_minor": 5
}
